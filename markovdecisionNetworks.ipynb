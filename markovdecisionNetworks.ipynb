{
 "cells": [
  {
   "cell_type": "markdown",
   "id": "08c001ff",
   "metadata": {},
   "source": [
    "# Data Structure Used to represent the Grid"
   ]
  },
  {
   "cell_type": "code",
   "execution_count": 1,
   "id": "3f1963f1",
   "metadata": {},
   "outputs": [],
   "source": [
    "array=[[\"Diamond\",\"Safe\",\"Fire\"],\n",
    "       [\"Safe\",\"Safe\",\"Safe\"],\n",
    "       [\"Start\",\"Safe\",\"Blocked\"]]\n",
    "Start=array[2][0]\n",
    "Diamond=array[0][0]\n",
    "Fire=array[0][2]\n",
    "Blocked=array[2][2]\n",
    "\n",
    "\n",
    "\n",
    "Safe=array[0][1]\n",
    "Safe=array[1][0]\n",
    "Safe=array[1][1]\n",
    "Safe=array[1][2]\n",
    "Safe=array[2][1]\n",
    "\n",
    "reward_dict={\"Start\":0.5,\"Safe\":0.5,\"Fire\":-1,\"Blocked\":-1,\"Diamond\":1}\n",
    "utility=0"
   ]
  },
  {
   "cell_type": "markdown",
   "id": "916b8c73",
   "metadata": {},
   "source": [
    "# Markov Decision Network process "
   ]
  },
  {
   "cell_type": "code",
   "execution_count": 5,
   "id": "dcb3ec33",
   "metadata": {},
   "outputs": [
    {
     "name": "stdout",
     "output_type": "stream",
     "text": [
      "Start here!!\n",
      "Safe here!!\n",
      "Safe here!!\n",
      "Safe here!!\n",
      "Diamond is here!!\n",
      "Diamond is here!!\n"
     ]
    }
   ],
   "source": [
    "agent=\"Start\" #Initialization or the start of the agent \n",
    "\n",
    "for i in range(len(array)-1,0,-1):\n",
    "        for j in range(len(array)):\n",
    "            if agent==\"Diamond\":\n",
    "                print(\"Diamond is here!!\")\n",
    "                utility=utility+reward(i,j,reward_dict[\"Diamond\"])\n",
    "                \n",
    "            elif agent==\"Start\":\n",
    "                print(\"Start here!!\")\n",
    "                agent=turn_Up(i,j)\n",
    "                utility=utility+reward(i,j,reward_dict[\"Start\"])\n",
    "            elif agent==\"Start\":\n",
    "                agent=turn_Right(i,j)\n",
    "                print(\"Start here!!\")\n",
    "                utility=utility+reward(i,j,reward_dict[\"Safe\"])\n",
    "            elif agent==\"Blocked\":\n",
    "                agent=turn_Left(i,j)\n",
    "                print(\"Blocked!!\")\n",
    "                utility=utility-reward(i,j,reward_dict[\"Blocked\"])\n",
    "            elif agent==\"Blocked\":\n",
    "                agent=turn_Up(i,j)\n",
    "                print(\"Blocked!!\")\n",
    "                utility=utility-reward(i,j,reward_dict[\"Blocked\"])\n",
    "\n",
    "\n",
    "            \n",
    "            elif agent==\"Safe\":\n",
    "                agent=turn_Up(i,j)\n",
    "                print(\"Safe here!!\")\n",
    "                utility=utility+reward(i,j,reward_dict[\"Safe\"])\n",
    "            elif agent==\"Safe\":\n",
    "                agent=turn_Right(i,j)\n",
    "                print(\"Safe here!!\")\n",
    "                utility=utility+reward(i,j,reward_dict[\"Safe\"])\n",
    "            elif agent==\"Safe\":\n",
    "                agent=turn_Right(i,j)\n",
    "                print(\"Safe here!!\")\n",
    "                utility=utility+reward(i,j,reward_dict[\"Safe\"])\n",
    "\n",
    "\n",
    "            elif agent==\"Safe\":\n",
    "                agent=turn_Left(i,j)\n",
    "                print(\"Safe here!!\")\n",
    "                utility=utility+reward(i,j,reward_dict[\"Safe\"])\n",
    "            \n",
    "\n",
    "\n",
    "            elif agent==\"Fire\":\n",
    "                agent=turn_Right(i,1)\n",
    "                print(\"On Fire!!\")\n",
    "                utility=utility-reward(i,j,reward_dict[\"Fire\"])\n",
    "\n",
    "            elif agent==\"Fire\":\n",
    "                agent=turn_Down(i,j)\n",
    "                print(\"on Fire!!\")\n",
    "                utility=utility-reward(i,j,reward_dict[\"Fire\"])\n",
    "\n",
    "\n",
    "\n",
    "\n",
    "\n",
    "\n",
    "\n",
    "\n",
    "\n",
    "        \n",
    "        \n",
    "      \n",
    "      \n",
    "\n",
    "        \n",
    "      "
   ]
  },
  {
   "cell_type": "code",
   "execution_count": 6,
   "id": "09c0b16a",
   "metadata": {},
   "outputs": [
    {
     "name": "stdout",
     "output_type": "stream",
     "text": [
      "The maximum reward you got is 4.0 On getting the diamond\n"
     ]
    }
   ],
   "source": [
    "print(f'The maximum reward you got is {utility} On getting the diamond')"
   ]
  },
  {
   "cell_type": "markdown",
   "id": "aca19e09",
   "metadata": {},
   "source": [
    "# Actions"
   ]
  },
  {
   "cell_type": "code",
   "execution_count": 3,
   "id": "a8ca296d",
   "metadata": {},
   "outputs": [],
   "source": [
    "def turn_Right(i,j):\n",
    "    new_pos=array[i][j]\n",
    "    if j==2:\n",
    "        turn_Left(i,j)\n",
    "     \n",
    "    else:\n",
    "        new_pos=array[i][j+1]\n",
    "    return new_pos\n",
    "def turn_Left(i,j):\n",
    "    new_pos=array[i][j]\n",
    "    if j==0:\n",
    "        turn_Right(i,j)\n",
    "    else:\n",
    "        new_pos=array[i][j-1]\n",
    "    return new_pos\n",
    "def turn_Up(i,j):\n",
    "    new_pos=array[i][j]\n",
    "    if i==0:\n",
    "        turn_Down(i,j)\n",
    "        \n",
    "        \n",
    "    else:\n",
    "         new_pos=array[i-1][j]\n",
    "    return new_pos\n",
    "def turn_Down(i,j):\n",
    "    new_pos=array[i][j]\n",
    "    if i==2:\n",
    "        turn_Up(i,j)\n",
    "        \n",
    "    else:\n",
    "        new_pos=array[i+1][j]\n",
    "    return new_pos\n"
   ]
  },
  {
   "cell_type": "markdown",
   "id": "b487ebb7",
   "metadata": {},
   "source": [
    "# Reward Function"
   ]
  },
  {
   "cell_type": "code",
   "execution_count": 4,
   "id": "27d1c97d",
   "metadata": {},
   "outputs": [],
   "source": [
    "def reward(i,j, utility_num):\n",
    "    new_utility=utility_num\n",
    "    state=array[i][j]\n",
    "    if turn_Right(i,j):\n",
    "        if state==\"Safe\":\n",
    "            new_utility=utility_num\n",
    "        if state==\"Start\":\n",
    "            new_utility=utility_num\n",
    "        elif state==\"Fire\":\n",
    "            new_utility=utility_num\n",
    "        elif state==\"Blocked\":\n",
    "            new_utility=utility_num\n",
    "        elif state==\"Diamond\":\n",
    "            new_utility=utility\n",
    "        \n",
    "    if turn_Left(i,j):\n",
    "        if state==\"Safe\":\n",
    "            new_utility=utility_num\n",
    "        if state==\"Start\":\n",
    "            new_utility=utility_num\n",
    "        elif state==\"Fire\":\n",
    "            new_utility=utility_num\n",
    "        elif state==\"Blocked\":\n",
    "            new_utility=utility_num\n",
    "        elif state==\"Diamond\":\n",
    "            new_utility=utility_num\n",
    "        \n",
    "        \n",
    "    if turn_Up(i,j):\n",
    "        if state==\"Safe\":\n",
    "            new_utility=utility_num\n",
    "        if state==\"Start\":\n",
    "            new_utility=utility_num\n",
    "        elif state==\"Fire\":\n",
    "            new_utility=utility_num\n",
    "        elif state==\"Blocked\":\n",
    "            new_utility=utility_num\n",
    "        elif state==\"Diamond\":\n",
    "            new_utility=utility_num\n",
    "        \n",
    "        \n",
    "    if turn_Down(i,j):\n",
    "        if state==\"Safe\":\n",
    "            new_utility=utility_num\n",
    "        if state==\"Start\":\n",
    "            new_utility=utility_num\n",
    "        elif state==\"Fire\":\n",
    "            new_utility=utility_num\n",
    "        elif state==\"Blocked\":\n",
    "            new_utility=utility_num\n",
    "        elif state==\"Diamond\":\n",
    "            new_utility=utility_num\n",
    "        \n",
    "    return new_utility\n",
    "   \n",
    "        \n",
    "    \n",
    "    \n",
    "    "
   ]
  },
  {
   "cell_type": "code",
   "execution_count": null,
   "id": "8dae9d52",
   "metadata": {},
   "outputs": [],
   "source": []
  }
 ],
 "metadata": {
  "kernelspec": {
   "display_name": "Python 3 (ipykernel)",
   "language": "python",
   "name": "python3"
  },
  "language_info": {
   "codemirror_mode": {
    "name": "ipython",
    "version": 3
   },
   "file_extension": ".py",
   "mimetype": "text/x-python",
   "name": "python",
   "nbconvert_exporter": "python",
   "pygments_lexer": "ipython3",
   "version": "3.9.13"
  }
 },
 "nbformat": 4,
 "nbformat_minor": 5
}
