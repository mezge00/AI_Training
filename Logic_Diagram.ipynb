{
 "cells": [
  {
   "cell_type": "code",
   "execution_count": 16,
   "id": "dfbc80d4",
   "metadata": {},
   "outputs": [],
   "source": [
    "from logic import*"
   ]
  },
  {
   "cell_type": "markdown",
   "id": "f7884bab",
   "metadata": {},
   "source": [
    "# rule for conjunction (^) and implication (=>) operator\n",
    "^ This is the and logic it only h=give a truth value if all the operands are true.\n",
    "If A and B are true if and only if Both A and B are true. \n",
    "=> This is an implication, This  is always true except when the function to be implied is False while the implies is still true.\n",
    "A=>B is false if and only is A=True and B=False "
   ]
  },
  {
   "cell_type": "raw",
   "id": "cd446026",
   "metadata": {},
   "source": [
    "# We can use the Vars function from the logic file so that we can make different kinds of propositions.\n",
    "The data structure is also an array so that we can use those values and convert them to string "
   ]
  },
  {
   "cell_type": "code",
   "execution_count": 2,
   "id": "81b9d4d4",
   "metadata": {},
   "outputs": [],
   "source": [
    "P,Q,R=vars('p','Q','R')"
   ]
  },
  {
   "cell_type": "code",
   "execution_count": 3,
   "id": "7c799ef5",
   "metadata": {},
   "outputs": [],
   "source": [
    "P_and_Q_implies_R=((P&Q)>>R)"
   ]
  },
  {
   "cell_type": "code",
   "execution_count": 4,
   "id": "b0e47a03",
   "metadata": {},
   "outputs": [],
   "source": [
    "Q_implies_P=(Q>>P )\n"
   ]
  },
  {
   "cell_type": "code",
   "execution_count": 5,
   "id": "889ac39b",
   "metadata": {},
   "outputs": [],
   "source": [
    "KB=(((P&Q)>>R)&(Q>>P)&Q) "
   ]
  },
  {
   "cell_type": "code",
   "execution_count": 6,
   "id": "e7f6cf05",
   "metadata": {},
   "outputs": [],
   "source": [
    "KB_implies_Q=KB>>Q"
   ]
  },
  {
   "cell_type": "code",
   "execution_count": 15,
   "id": "15ca13d7",
   "metadata": {},
   "outputs": [
    {
     "name": "stdout",
     "output_type": "stream",
     "text": [
      "  Q      R      p    #  (p ^ Q) => R\n",
      "####################################\n",
      "True   True   True   #      True    \n",
      "True   True   False  #      True    \n",
      "True   False  True   #     False    \n",
      "True   False  False  #      True    \n",
      "False  True   True   #      True    \n",
      "False  True   False  #      True    \n",
      "False  False  True   #      True    \n",
      "False  False  False  #      True    \n",
      "\n",
      "None\n",
      "  Q      p    #  Q => p\n",
      "#######################\n",
      "True   True   #   True \n",
      "True   False  #  False \n",
      "False  True   #   True \n",
      "False  False  #   True \n",
      "\n",
      "None\n",
      "  Q      R      p    #  ((p ^ Q) => R) ^ (Q => p) ^ Q\n",
      "#####################################################\n",
      "True   True   True   #              True             \n",
      "True   True   False  #              False            \n",
      "True   False  True   #              False            \n",
      "True   False  False  #              False            \n",
      "False  True   True   #              False            \n",
      "False  True   False  #              False            \n",
      "False  False  True   #              False            \n",
      "False  False  False  #              False            \n",
      "\n",
      "None\n",
      "  Q      R      p    #  (((p ^ Q) => R) ^ (Q => p) ^ Q) => Q\n",
      "############################################################\n",
      "True   True   True   #                  True                \n",
      "True   True   False  #                  True                \n",
      "True   False  True   #                  True                \n",
      "True   False  False  #                  True                \n",
      "False  True   True   #                  True                \n",
      "False  True   False  #                  True                \n",
      "False  False  True   #                  True                \n",
      "False  False  False  #                  True                \n",
      "\n",
      "None\n"
     ]
    }
   ],
   "source": [
    "print(P_and_Q_implies_R.print_truth_table())\n",
    "print(Q_implies_P.print_truth_table())\n",
    "print(KB.print_truth_table())\n",
    "print(KB_implies_Q.print_truth_table())\n"
   ]
  },
  {
   "cell_type": "code",
   "execution_count": null,
   "id": "f1cc00a5",
   "metadata": {},
   "outputs": [],
   "source": []
  },
  {
   "cell_type": "code",
   "execution_count": null,
   "id": "94c5cf35",
   "metadata": {},
   "outputs": [],
   "source": []
  }
 ],
 "metadata": {
  "kernelspec": {
   "display_name": "Python 3 (ipykernel)",
   "language": "python",
   "name": "python3"
  },
  "language_info": {
   "codemirror_mode": {
    "name": "ipython",
    "version": 3
   },
   "file_extension": ".py",
   "mimetype": "text/x-python",
   "name": "python",
   "nbconvert_exporter": "python",
   "pygments_lexer": "ipython3",
   "version": "3.9.13"
  }
 },
 "nbformat": 4,
 "nbformat_minor": 5
}
